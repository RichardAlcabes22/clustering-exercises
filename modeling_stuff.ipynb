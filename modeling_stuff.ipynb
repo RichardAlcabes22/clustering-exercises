{
 "cells": [
  {
   "cell_type": "code",
   "execution_count": 1,
   "id": "49da1aa8",
   "metadata": {},
   "outputs": [],
   "source": [
    "import pandas as pd\n",
    "import numpy as np\n",
    "import matplotlib.pyplot as plt\n",
    "import seaborn as sns\n",
    "\n",
    "from sklearn.cluster import KMeans\n",
    "from sklearn.preprocessing import MinMaxScaler\n",
    "from sklearn.model_selection import train_test_split"
   ]
  },
  {
   "cell_type": "code",
   "execution_count": 2,
   "id": "c619b7fe",
   "metadata": {},
   "outputs": [],
   "source": [
    "from pydataset import data"
   ]
  },
  {
   "cell_type": "code",
   "execution_count": 3,
   "id": "04fbb54f",
   "metadata": {},
   "outputs": [],
   "source": [
    "iris = data('iris')"
   ]
  },
  {
   "cell_type": "code",
   "execution_count": 4,
   "id": "54ff35f3",
   "metadata": {},
   "outputs": [
    {
     "data": {
      "text/html": [
       "<div>\n",
       "<style scoped>\n",
       "    .dataframe tbody tr th:only-of-type {\n",
       "        vertical-align: middle;\n",
       "    }\n",
       "\n",
       "    .dataframe tbody tr th {\n",
       "        vertical-align: top;\n",
       "    }\n",
       "\n",
       "    .dataframe thead th {\n",
       "        text-align: right;\n",
       "    }\n",
       "</style>\n",
       "<table border=\"1\" class=\"dataframe\">\n",
       "  <thead>\n",
       "    <tr style=\"text-align: right;\">\n",
       "      <th></th>\n",
       "      <th>Sepal.Length</th>\n",
       "      <th>Sepal.Width</th>\n",
       "      <th>Petal.Length</th>\n",
       "      <th>Petal.Width</th>\n",
       "      <th>Species</th>\n",
       "    </tr>\n",
       "  </thead>\n",
       "  <tbody>\n",
       "    <tr>\n",
       "      <th>1</th>\n",
       "      <td>5.1</td>\n",
       "      <td>3.5</td>\n",
       "      <td>1.4</td>\n",
       "      <td>0.2</td>\n",
       "      <td>setosa</td>\n",
       "    </tr>\n",
       "    <tr>\n",
       "      <th>2</th>\n",
       "      <td>4.9</td>\n",
       "      <td>3.0</td>\n",
       "      <td>1.4</td>\n",
       "      <td>0.2</td>\n",
       "      <td>setosa</td>\n",
       "    </tr>\n",
       "    <tr>\n",
       "      <th>3</th>\n",
       "      <td>4.7</td>\n",
       "      <td>3.2</td>\n",
       "      <td>1.3</td>\n",
       "      <td>0.2</td>\n",
       "      <td>setosa</td>\n",
       "    </tr>\n",
       "    <tr>\n",
       "      <th>4</th>\n",
       "      <td>4.6</td>\n",
       "      <td>3.1</td>\n",
       "      <td>1.5</td>\n",
       "      <td>0.2</td>\n",
       "      <td>setosa</td>\n",
       "    </tr>\n",
       "    <tr>\n",
       "      <th>5</th>\n",
       "      <td>5.0</td>\n",
       "      <td>3.6</td>\n",
       "      <td>1.4</td>\n",
       "      <td>0.2</td>\n",
       "      <td>setosa</td>\n",
       "    </tr>\n",
       "  </tbody>\n",
       "</table>\n",
       "</div>"
      ],
      "text/plain": [
       "   Sepal.Length  Sepal.Width  Petal.Length  Petal.Width Species\n",
       "1           5.1          3.5           1.4          0.2  setosa\n",
       "2           4.9          3.0           1.4          0.2  setosa\n",
       "3           4.7          3.2           1.3          0.2  setosa\n",
       "4           4.6          3.1           1.5          0.2  setosa\n",
       "5           5.0          3.6           1.4          0.2  setosa"
      ]
     },
     "execution_count": 4,
     "metadata": {},
     "output_type": "execute_result"
    }
   ],
   "source": [
    "iris.head()"
   ]
  },
  {
   "cell_type": "code",
   "execution_count": 5,
   "id": "d2d1bb65",
   "metadata": {},
   "outputs": [
    {
     "name": "stdout",
     "output_type": "stream",
     "text": [
      "<class 'pandas.core.frame.DataFrame'>\n",
      "Int64Index: 150 entries, 1 to 150\n",
      "Data columns (total 5 columns):\n",
      " #   Column        Non-Null Count  Dtype  \n",
      "---  ------        --------------  -----  \n",
      " 0   Sepal.Length  150 non-null    float64\n",
      " 1   Sepal.Width   150 non-null    float64\n",
      " 2   Petal.Length  150 non-null    float64\n",
      " 3   Petal.Width   150 non-null    float64\n",
      " 4   Species       150 non-null    object \n",
      "dtypes: float64(4), object(1)\n",
      "memory usage: 7.0+ KB\n"
     ]
    }
   ],
   "source": [
    "iris.info()"
   ]
  },
  {
   "cell_type": "code",
   "execution_count": 6,
   "id": "ed9c5b6b",
   "metadata": {},
   "outputs": [],
   "source": [
    "iris.columns = [col.lower().replace('.','_') for col in iris.columns]"
   ]
  },
  {
   "cell_type": "code",
   "execution_count": 7,
   "id": "16f75ab5",
   "metadata": {},
   "outputs": [
    {
     "data": {
      "text/plain": [
       "Index(['sepal_length', 'sepal_width', 'petal_length', 'petal_width',\n",
       "       'species'],\n",
       "      dtype='object')"
      ]
     },
     "execution_count": 7,
     "metadata": {},
     "output_type": "execute_result"
    }
   ],
   "source": [
    "iris.columns"
   ]
  },
  {
   "cell_type": "markdown",
   "id": "57346f59",
   "metadata": {},
   "source": [
    "### Prop  I need the labels now, I lost 'em"
   ]
  },
  {
   "cell_type": "code",
   "execution_count": 8,
   "id": "2023d130",
   "metadata": {},
   "outputs": [],
   "source": [
    "oops = iris.drop(columns='species')"
   ]
  },
  {
   "cell_type": "code",
   "execution_count": 9,
   "id": "b0861433",
   "metadata": {},
   "outputs": [
    {
     "data": {
      "text/html": [
       "<div>\n",
       "<style scoped>\n",
       "    .dataframe tbody tr th:only-of-type {\n",
       "        vertical-align: middle;\n",
       "    }\n",
       "\n",
       "    .dataframe tbody tr th {\n",
       "        vertical-align: top;\n",
       "    }\n",
       "\n",
       "    .dataframe thead th {\n",
       "        text-align: right;\n",
       "    }\n",
       "</style>\n",
       "<table border=\"1\" class=\"dataframe\">\n",
       "  <thead>\n",
       "    <tr style=\"text-align: right;\">\n",
       "      <th></th>\n",
       "      <th>sepal_length</th>\n",
       "      <th>sepal_width</th>\n",
       "      <th>petal_length</th>\n",
       "      <th>petal_width</th>\n",
       "    </tr>\n",
       "  </thead>\n",
       "  <tbody>\n",
       "    <tr>\n",
       "      <th>1</th>\n",
       "      <td>5.1</td>\n",
       "      <td>3.5</td>\n",
       "      <td>1.4</td>\n",
       "      <td>0.2</td>\n",
       "    </tr>\n",
       "    <tr>\n",
       "      <th>2</th>\n",
       "      <td>4.9</td>\n",
       "      <td>3.0</td>\n",
       "      <td>1.4</td>\n",
       "      <td>0.2</td>\n",
       "    </tr>\n",
       "    <tr>\n",
       "      <th>3</th>\n",
       "      <td>4.7</td>\n",
       "      <td>3.2</td>\n",
       "      <td>1.3</td>\n",
       "      <td>0.2</td>\n",
       "    </tr>\n",
       "    <tr>\n",
       "      <th>4</th>\n",
       "      <td>4.6</td>\n",
       "      <td>3.1</td>\n",
       "      <td>1.5</td>\n",
       "      <td>0.2</td>\n",
       "    </tr>\n",
       "    <tr>\n",
       "      <th>5</th>\n",
       "      <td>5.0</td>\n",
       "      <td>3.6</td>\n",
       "      <td>1.4</td>\n",
       "      <td>0.2</td>\n",
       "    </tr>\n",
       "  </tbody>\n",
       "</table>\n",
       "</div>"
      ],
      "text/plain": [
       "   sepal_length  sepal_width  petal_length  petal_width\n",
       "1           5.1          3.5           1.4          0.2\n",
       "2           4.9          3.0           1.4          0.2\n",
       "3           4.7          3.2           1.3          0.2\n",
       "4           4.6          3.1           1.5          0.2\n",
       "5           5.0          3.6           1.4          0.2"
      ]
     },
     "execution_count": 9,
     "metadata": {},
     "output_type": "execute_result"
    }
   ],
   "source": [
    "oops.head()"
   ]
  },
  {
   "cell_type": "code",
   "execution_count": 24,
   "id": "53f1b3cd",
   "metadata": {},
   "outputs": [
    {
     "data": {
      "image/png": "[encoded data removed]",
      "text/plain": [
       "<Figure size 800x500 with 1 Axes>"
      ]
     },
     "metadata": {},
     "output_type": "display_data"
    }
   ],
   "source": [
    "plt.figure(figsize=(8,5))\n",
    "plt.scatter(oops.petal_length, oops.petal_width)\n",
    "plt.title('Petal Length v Width')\n",
    "plt.show()"
   ]
  },
  {
   "cell_type": "code",
   "execution_count": 22,
   "id": "1645a919",
   "metadata": {},
   "outputs": [],
   "source": [
    "# model\n",
    "# first scale data, then feed scaled data into kmeans\n",
    "\n",
    "feats_to_scale = ['petal_length','petal_width']\n",
    "cols_scaled = [col+'scaled' for col in feats_to_scale]\n",
    "\n",
    "oops[cols_scaled] = MinMaxScaler().fit_transform(oops[feats_to_scale])"
   ]
  },
  {
   "cell_type": "code",
   "execution_count": 23,
   "id": "769fbefc",
   "metadata": {},
   "outputs": [
    {
     "data": {
      "text/html": [
       "<div>\n",
       "<style scoped>\n",
       "    .dataframe tbody tr th:only-of-type {\n",
       "        vertical-align: middle;\n",
       "    }\n",
       "\n",
       "    .dataframe tbody tr th {\n",
       "        vertical-align: top;\n",
       "    }\n",
       "\n",
       "    .dataframe thead th {\n",
       "        text-align: right;\n",
       "    }\n",
       "</style>\n",
       "<table border=\"1\" class=\"dataframe\">\n",
       "  <thead>\n",
       "    <tr style=\"text-align: right;\">\n",
       "      <th></th>\n",
       "      <th>sepal_length</th>\n",
       "      <th>sepal_width</th>\n",
       "      <th>petal_length</th>\n",
       "      <th>petal_width</th>\n",
       "      <th>petal_lengthscaled</th>\n",
       "      <th>petal_widthscaled</th>\n",
       "    </tr>\n",
       "  </thead>\n",
       "  <tbody>\n",
       "    <tr>\n",
       "      <th>1</th>\n",
       "      <td>5.1</td>\n",
       "      <td>3.5</td>\n",
       "      <td>1.4</td>\n",
       "      <td>0.2</td>\n",
       "      <td>0.067797</td>\n",
       "      <td>0.041667</td>\n",
       "    </tr>\n",
       "    <tr>\n",
       "      <th>2</th>\n",
       "      <td>4.9</td>\n",
       "      <td>3.0</td>\n",
       "      <td>1.4</td>\n",
       "      <td>0.2</td>\n",
       "      <td>0.067797</td>\n",
       "      <td>0.041667</td>\n",
       "    </tr>\n",
       "    <tr>\n",
       "      <th>3</th>\n",
       "      <td>4.7</td>\n",
       "      <td>3.2</td>\n",
       "      <td>1.3</td>\n",
       "      <td>0.2</td>\n",
       "      <td>0.050847</td>\n",
       "      <td>0.041667</td>\n",
       "    </tr>\n",
       "    <tr>\n",
       "      <th>4</th>\n",
       "      <td>4.6</td>\n",
       "      <td>3.1</td>\n",
       "      <td>1.5</td>\n",
       "      <td>0.2</td>\n",
       "      <td>0.084746</td>\n",
       "      <td>0.041667</td>\n",
       "    </tr>\n",
       "    <tr>\n",
       "      <th>5</th>\n",
       "      <td>5.0</td>\n",
       "      <td>3.6</td>\n",
       "      <td>1.4</td>\n",
       "      <td>0.2</td>\n",
       "      <td>0.067797</td>\n",
       "      <td>0.041667</td>\n",
       "    </tr>\n",
       "  </tbody>\n",
       "</table>\n",
       "</div>"
      ],
      "text/plain": [
       "   sepal_length  sepal_width  ...  petal_lengthscaled  petal_widthscaled\n",
       "1           5.1          3.5  ...            0.067797           0.041667\n",
       "2           4.9          3.0  ...            0.067797           0.041667\n",
       "3           4.7          3.2  ...            0.050847           0.041667\n",
       "4           4.6          3.1  ...            0.084746           0.041667\n",
       "5           5.0          3.6  ...            0.067797           0.041667\n",
       "\n",
       "[5 rows x 6 columns]"
      ]
     },
     "execution_count": 23,
     "metadata": {},
     "output_type": "execute_result"
    }
   ],
   "source": [
    "oops.head()"
   ]
  },
  {
   "cell_type": "code",
   "execution_count": 27,
   "id": "0a93016d",
   "metadata": {},
   "outputs": [
    {
     "data": {
      "image/png": "[encoded data removed]",
      "text/plain": [
       "<Figure size 800x500 with 1 Axes>"
      ]
     },
     "metadata": {},
     "output_type": "display_data"
    }
   ],
   "source": [
    "plt.figure(figsize=(8,5))\n",
    "plt.scatter(oops.petal_lengthscaled, oops.petal_widthscaled,c='firebrick',alpha=0.7)\n",
    "plt.title('Petal Lenght v Width')\n",
    "plt.show()"
   ]
  },
  {
   "cell_type": "code",
   "execution_count": 28,
   "id": "ab9aa65d",
   "metadata": {},
   "outputs": [],
   "source": [
    "k_means_proto = KMeans(n_clusters=3)\n",
    "k_means_proto.fit(oops[cols_scaled])\n",
    "clusters = k_means_proto.predict(oops[cols_scaled])"
   ]
  },
  {
   "cell_type": "code",
   "execution_count": 29,
   "id": "273b62a8",
   "metadata": {},
   "outputs": [
    {
     "data": {
      "text/plain": [
       "array([1, 1, 1, 1, 1, 1, 1, 1, 1, 1, 1, 1, 1, 1, 1, 1, 1, 1, 1, 1, 1, 1,\n",
       "       1, 1, 1, 1, 1, 1, 1, 1, 1, 1, 1, 1, 1, 1, 1, 1, 1, 1, 1, 1, 1, 1,\n",
       "       1, 1, 1, 1, 1, 1, 0, 0, 0, 0, 0, 0, 0, 0, 0, 0, 0, 0, 0, 0, 0, 0,\n",
       "       0, 0, 0, 0, 2, 0, 0, 0, 0, 0, 0, 2, 0, 0, 0, 0, 0, 0, 0, 0, 0, 0,\n",
       "       0, 0, 0, 0, 0, 0, 0, 0, 0, 0, 0, 0, 2, 2, 2, 2, 2, 2, 0, 2, 2, 2,\n",
       "       2, 2, 2, 2, 2, 2, 2, 2, 2, 0, 2, 2, 2, 2, 2, 2, 2, 2, 2, 2, 2, 2,\n",
       "       2, 0, 0, 2, 2, 2, 2, 2, 2, 2, 2, 2, 2, 2, 2, 2, 2, 2], dtype=int32)"
      ]
     },
     "execution_count": 29,
     "metadata": {},
     "output_type": "execute_result"
    }
   ],
   "source": [
    "clusters"
   ]
  },
  {
   "cell_type": "code",
   "execution_count": 30,
   "id": "8cb56f7c",
   "metadata": {},
   "outputs": [],
   "source": [
    "oops['cluster_assigned'] = clusters"
   ]
  },
  {
   "cell_type": "code",
   "execution_count": 31,
   "id": "57da72b6",
   "metadata": {},
   "outputs": [
    {
     "data": {
      "text/html": [
       "<div>\n",
       "<style scoped>\n",
       "    .dataframe tbody tr th:only-of-type {\n",
       "        vertical-align: middle;\n",
       "    }\n",
       "\n",
       "    .dataframe tbody tr th {\n",
       "        vertical-align: top;\n",
       "    }\n",
       "\n",
       "    .dataframe thead th {\n",
       "        text-align: right;\n",
       "    }\n",
       "</style>\n",
       "<table border=\"1\" class=\"dataframe\">\n",
       "  <thead>\n",
       "    <tr style=\"text-align: right;\">\n",
       "      <th></th>\n",
       "      <th>sepal_length</th>\n",
       "      <th>sepal_width</th>\n",
       "      <th>petal_length</th>\n",
       "      <th>petal_width</th>\n",
       "      <th>petal_lengthscaled</th>\n",
       "      <th>petal_widthscaled</th>\n",
       "      <th>cluster_assigned</th>\n",
       "    </tr>\n",
       "  </thead>\n",
       "  <tbody>\n",
       "    <tr>\n",
       "      <th>1</th>\n",
       "      <td>5.1</td>\n",
       "      <td>3.5</td>\n",
       "      <td>1.4</td>\n",
       "      <td>0.2</td>\n",
       "      <td>0.067797</td>\n",
       "      <td>0.041667</td>\n",
       "      <td>1</td>\n",
       "    </tr>\n",
       "    <tr>\n",
       "      <th>2</th>\n",
       "      <td>4.9</td>\n",
       "      <td>3.0</td>\n",
       "      <td>1.4</td>\n",
       "      <td>0.2</td>\n",
       "      <td>0.067797</td>\n",
       "      <td>0.041667</td>\n",
       "      <td>1</td>\n",
       "    </tr>\n",
       "    <tr>\n",
       "      <th>3</th>\n",
       "      <td>4.7</td>\n",
       "      <td>3.2</td>\n",
       "      <td>1.3</td>\n",
       "      <td>0.2</td>\n",
       "      <td>0.050847</td>\n",
       "      <td>0.041667</td>\n",
       "      <td>1</td>\n",
       "    </tr>\n",
       "    <tr>\n",
       "      <th>4</th>\n",
       "      <td>4.6</td>\n",
       "      <td>3.1</td>\n",
       "      <td>1.5</td>\n",
       "      <td>0.2</td>\n",
       "      <td>0.084746</td>\n",
       "      <td>0.041667</td>\n",
       "      <td>1</td>\n",
       "    </tr>\n",
       "    <tr>\n",
       "      <th>5</th>\n",
       "      <td>5.0</td>\n",
       "      <td>3.6</td>\n",
       "      <td>1.4</td>\n",
       "      <td>0.2</td>\n",
       "      <td>0.067797</td>\n",
       "      <td>0.041667</td>\n",
       "      <td>1</td>\n",
       "    </tr>\n",
       "  </tbody>\n",
       "</table>\n",
       "</div>"
      ],
      "text/plain": [
       "   sepal_length  sepal_width  ...  petal_widthscaled  cluster_assigned\n",
       "1           5.1          3.5  ...           0.041667                 1\n",
       "2           4.9          3.0  ...           0.041667                 1\n",
       "3           4.7          3.2  ...           0.041667                 1\n",
       "4           4.6          3.1  ...           0.041667                 1\n",
       "5           5.0          3.6  ...           0.041667                 1\n",
       "\n",
       "[5 rows x 7 columns]"
      ]
     },
     "execution_count": 31,
     "metadata": {},
     "output_type": "execute_result"
    }
   ],
   "source": [
    "oops.head()"
   ]
  },
  {
   "cell_type": "code",
   "execution_count": 32,
   "id": "4ff600cd",
   "metadata": {},
   "outputs": [
    {
     "data": {
      "text/plain": [
       "0    52\n",
       "1    50\n",
       "2    48\n",
       "Name: cluster_assigned, dtype: int64"
      ]
     },
     "execution_count": 32,
     "metadata": {},
     "output_type": "execute_result"
    }
   ],
   "source": [
    "oops.cluster_assigned.value_counts()"
   ]
  },
  {
   "cell_type": "code",
   "execution_count": 33,
   "id": "6d70af76",
   "metadata": {},
   "outputs": [
    {
     "data": {
      "text/plain": [
       "array([1, 0, 2], dtype=int32)"
      ]
     },
     "execution_count": 33,
     "metadata": {},
     "output_type": "execute_result"
    }
   ],
   "source": [
    "oops.cluster_assigned.unique()"
   ]
  },
  {
   "cell_type": "code",
   "execution_count": 38,
   "id": "50791edd",
   "metadata": {},
   "outputs": [
    {
     "data": {
      "image/png": "[encoded data removed]",
      "text/plain": [
       "<Figure size 800x500 with 1 Axes>"
      ]
     },
     "metadata": {},
     "output_type": "display_data"
    }
   ],
   "source": [
    "plt.figure(figsize=(8,5))\n",
    "for cluster in oops.cluster_assigned.unique():\n",
    "    plt.scatter(oops[oops.cluster_assigned == cluster].petal_length,\n",
    "            oops[oops.cluster_assigned == cluster].petal_width)\n",
    "plt.show()"
   ]
  },
  {
   "cell_type": "code",
   "execution_count": 39,
   "id": "682708f3",
   "metadata": {},
   "outputs": [],
   "source": [
    "oops['species'] = iris.species"
   ]
  },
  {
   "cell_type": "code",
   "execution_count": 44,
   "id": "febc87bf",
   "metadata": {},
   "outputs": [
    {
     "name": "stdout",
     "output_type": "stream",
     "text": [
      "    sepal_length  sepal_width  ...  cluster_assigned  species\n",
      "1            5.1          3.5  ...                 1   setosa\n",
      "2            4.9          3.0  ...                 1   setosa\n",
      "3            4.7          3.2  ...                 1   setosa\n",
      "4            4.6          3.1  ...                 1   setosa\n",
      "5            5.0          3.6  ...                 1   setosa\n",
      "6            5.4          3.9  ...                 1   setosa\n",
      "7            4.6          3.4  ...                 1   setosa\n",
      "8            5.0          3.4  ...                 1   setosa\n",
      "9            4.4          2.9  ...                 1   setosa\n",
      "10           4.9          3.1  ...                 1   setosa\n",
      "11           5.4          3.7  ...                 1   setosa\n",
      "12           4.8          3.4  ...                 1   setosa\n",
      "13           4.8          3.0  ...                 1   setosa\n",
      "14           4.3          3.0  ...                 1   setosa\n",
      "15           5.8          4.0  ...                 1   setosa\n",
      "16           5.7          4.4  ...                 1   setosa\n",
      "17           5.4          3.9  ...                 1   setosa\n",
      "18           5.1          3.5  ...                 1   setosa\n",
      "19           5.7          3.8  ...                 1   setosa\n",
      "20           5.1          3.8  ...                 1   setosa\n",
      "21           5.4          3.4  ...                 1   setosa\n",
      "22           5.1          3.7  ...                 1   setosa\n",
      "23           4.6          3.6  ...                 1   setosa\n",
      "24           5.1          3.3  ...                 1   setosa\n",
      "25           4.8          3.4  ...                 1   setosa\n",
      "26           5.0          3.0  ...                 1   setosa\n",
      "27           5.0          3.4  ...                 1   setosa\n",
      "28           5.2          3.5  ...                 1   setosa\n",
      "29           5.2          3.4  ...                 1   setosa\n",
      "30           4.7          3.2  ...                 1   setosa\n",
      "31           4.8          3.1  ...                 1   setosa\n",
      "32           5.4          3.4  ...                 1   setosa\n",
      "33           5.2          4.1  ...                 1   setosa\n",
      "34           5.5          4.2  ...                 1   setosa\n",
      "35           4.9          3.1  ...                 1   setosa\n",
      "36           5.0          3.2  ...                 1   setosa\n",
      "37           5.5          3.5  ...                 1   setosa\n",
      "38           4.9          3.6  ...                 1   setosa\n",
      "39           4.4          3.0  ...                 1   setosa\n",
      "40           5.1          3.4  ...                 1   setosa\n",
      "41           5.0          3.5  ...                 1   setosa\n",
      "42           4.5          2.3  ...                 1   setosa\n",
      "43           4.4          3.2  ...                 1   setosa\n",
      "44           5.0          3.5  ...                 1   setosa\n",
      "45           5.1          3.8  ...                 1   setosa\n",
      "46           4.8          3.0  ...                 1   setosa\n",
      "47           5.1          3.8  ...                 1   setosa\n",
      "48           4.6          3.2  ...                 1   setosa\n",
      "49           5.3          3.7  ...                 1   setosa\n",
      "50           5.0          3.3  ...                 1   setosa\n",
      "\n",
      "[50 rows x 8 columns]\n",
      "     sepal_length  sepal_width  ...  cluster_assigned     species\n",
      "51            7.0          3.2  ...                 0  versicolor\n",
      "52            6.4          3.2  ...                 0  versicolor\n",
      "53            6.9          3.1  ...                 0  versicolor\n",
      "54            5.5          2.3  ...                 0  versicolor\n",
      "55            6.5          2.8  ...                 0  versicolor\n",
      "56            5.7          2.8  ...                 0  versicolor\n",
      "57            6.3          3.3  ...                 0  versicolor\n",
      "58            4.9          2.4  ...                 0  versicolor\n",
      "59            6.6          2.9  ...                 0  versicolor\n",
      "60            5.2          2.7  ...                 0  versicolor\n",
      "61            5.0          2.0  ...                 0  versicolor\n",
      "62            5.9          3.0  ...                 0  versicolor\n",
      "63            6.0          2.2  ...                 0  versicolor\n",
      "64            6.1          2.9  ...                 0  versicolor\n",
      "65            5.6          2.9  ...                 0  versicolor\n",
      "66            6.7          3.1  ...                 0  versicolor\n",
      "67            5.6          3.0  ...                 0  versicolor\n",
      "68            5.8          2.7  ...                 0  versicolor\n",
      "69            6.2          2.2  ...                 0  versicolor\n",
      "70            5.6          2.5  ...                 0  versicolor\n",
      "71            5.9          3.2  ...                 2  versicolor\n",
      "72            6.1          2.8  ...                 0  versicolor\n",
      "73            6.3          2.5  ...                 0  versicolor\n",
      "74            6.1          2.8  ...                 0  versicolor\n",
      "75            6.4          2.9  ...                 0  versicolor\n",
      "76            6.6          3.0  ...                 0  versicolor\n",
      "77            6.8          2.8  ...                 0  versicolor\n",
      "78            6.7          3.0  ...                 2  versicolor\n",
      "79            6.0          2.9  ...                 0  versicolor\n",
      "80            5.7          2.6  ...                 0  versicolor\n",
      "81            5.5          2.4  ...                 0  versicolor\n",
      "82            5.5          2.4  ...                 0  versicolor\n",
      "83            5.8          2.7  ...                 0  versicolor\n",
      "84            6.0          2.7  ...                 0  versicolor\n",
      "85            5.4          3.0  ...                 0  versicolor\n",
      "86            6.0          3.4  ...                 0  versicolor\n",
      "87            6.7          3.1  ...                 0  versicolor\n",
      "88            6.3          2.3  ...                 0  versicolor\n",
      "89            5.6          3.0  ...                 0  versicolor\n",
      "90            5.5          2.5  ...                 0  versicolor\n",
      "91            5.5          2.6  ...                 0  versicolor\n",
      "92            6.1          3.0  ...                 0  versicolor\n",
      "93            5.8          2.6  ...                 0  versicolor\n",
      "94            5.0          2.3  ...                 0  versicolor\n",
      "95            5.6          2.7  ...                 0  versicolor\n",
      "96            5.7          3.0  ...                 0  versicolor\n",
      "97            5.7          2.9  ...                 0  versicolor\n",
      "98            6.2          2.9  ...                 0  versicolor\n",
      "99            5.1          2.5  ...                 0  versicolor\n",
      "100           5.7          2.8  ...                 0  versicolor\n",
      "\n",
      "[50 rows x 8 columns]\n",
      "     sepal_length  sepal_width  ...  cluster_assigned    species\n",
      "101           6.3          3.3  ...                 2  virginica\n",
      "102           5.8          2.7  ...                 2  virginica\n",
      "103           7.1          3.0  ...                 2  virginica\n",
      "104           6.3          2.9  ...                 2  virginica\n",
      "105           6.5          3.0  ...                 2  virginica\n",
      "106           7.6          3.0  ...                 2  virginica\n",
      "107           4.9          2.5  ...                 0  virginica\n",
      "108           7.3          2.9  ...                 2  virginica\n",
      "109           6.7          2.5  ...                 2  virginica\n",
      "110           7.2          3.6  ...                 2  virginica\n",
      "111           6.5          3.2  ...                 2  virginica\n",
      "112           6.4          2.7  ...                 2  virginica\n",
      "113           6.8          3.0  ...                 2  virginica\n",
      "114           5.7          2.5  ...                 2  virginica\n",
      "115           5.8          2.8  ...                 2  virginica\n",
      "116           6.4          3.2  ...                 2  virginica\n",
      "117           6.5          3.0  ...                 2  virginica\n",
      "118           7.7          3.8  ...                 2  virginica\n",
      "119           7.7          2.6  ...                 2  virginica\n",
      "120           6.0          2.2  ...                 0  virginica\n",
      "121           6.9          3.2  ...                 2  virginica\n",
      "122           5.6          2.8  ...                 2  virginica\n",
      "123           7.7          2.8  ...                 2  virginica\n",
      "124           6.3          2.7  ...                 2  virginica\n",
      "125           6.7          3.3  ...                 2  virginica\n",
      "126           7.2          3.2  ...                 2  virginica\n",
      "127           6.2          2.8  ...                 2  virginica\n",
      "128           6.1          3.0  ...                 2  virginica\n",
      "129           6.4          2.8  ...                 2  virginica\n",
      "130           7.2          3.0  ...                 2  virginica\n",
      "131           7.4          2.8  ...                 2  virginica\n",
      "132           7.9          3.8  ...                 2  virginica\n",
      "133           6.4          2.8  ...                 2  virginica\n",
      "134           6.3          2.8  ...                 0  virginica\n",
      "135           6.1          2.6  ...                 0  virginica\n",
      "136           7.7          3.0  ...                 2  virginica\n",
      "137           6.3          3.4  ...                 2  virginica\n",
      "138           6.4          3.1  ...                 2  virginica\n",
      "139           6.0          3.0  ...                 2  virginica\n",
      "140           6.9          3.1  ...                 2  virginica\n",
      "141           6.7          3.1  ...                 2  virginica\n",
      "142           6.9          3.1  ...                 2  virginica\n",
      "143           5.8          2.7  ...                 2  virginica\n",
      "144           6.8          3.2  ...                 2  virginica\n",
      "145           6.7          3.3  ...                 2  virginica\n",
      "146           6.7          3.0  ...                 2  virginica\n",
      "147           6.3          2.5  ...                 2  virginica\n",
      "148           6.5          3.0  ...                 2  virginica\n",
      "149           6.2          3.4  ...                 2  virginica\n",
      "150           5.9          3.0  ...                 2  virginica\n",
      "\n",
      "[50 rows x 8 columns]\n"
     ]
    }
   ],
   "source": [
    "for thing in oops.groupby('species'):\n",
    "    print(thing[1])"
   ]
  },
  {
   "cell_type": "code",
   "execution_count": 45,
   "id": "b82dcc2c",
   "metadata": {},
   "outputs": [
    {
     "data": {
      "text/plain": [
       "1.7018746881920968"
      ]
     },
     "execution_count": 45,
     "metadata": {},
     "output_type": "execute_result"
    }
   ],
   "source": [
    "k_means_proto.inertia_"
   ]
  },
  {
   "cell_type": "code",
   "execution_count": null,
   "id": "eb599266",
   "metadata": {},
   "outputs": [],
   "source": []
  },
  {
   "cell_type": "code",
   "execution_count": 46,
   "id": "2164e1c6",
   "metadata": {},
   "outputs": [
    {
     "data": {
      "text/plain": [
       "{2: 5.176463590044368,\n",
       " 3: 1.7018746881920968,\n",
       " 4: 1.1588792731667126,\n",
       " 5: 0.8616150173815892,\n",
       " 6: 0.6801035704886195,\n",
       " 7: 0.5656776810037092,\n",
       " 8: 0.485808455391437,\n",
       " 9: 0.4254419833522953,\n",
       " 10: 0.364881039066573,\n",
       " 11: 0.33824001805001724,\n",
       " 12: 0.30718218050055407,\n",
       " 13: 0.26846168560482275,\n",
       " 14: 0.25261569376160176,\n",
       " 15: 0.2351993048478209,\n",
       " 16: 0.21490716171898389,\n",
       " 17: 0.19385235679501756,\n",
       " 18: 0.1845339652534439,\n",
       " 19: 0.17073624672947338,\n",
       " 20: 0.1578303080946898,\n",
       " 21: 0.14840721109416355,\n",
       " 22: 0.13961708638044987,\n",
       " 23: 0.13402246593140016,\n",
       " 24: 0.12100883479868217}"
      ]
     },
     "execution_count": 46,
     "metadata": {},
     "output_type": "execute_result"
    }
   ],
   "source": [
    "#dictionary Comp\n",
    "{k: KMeans(k).fit(oops[cols_scaled]).inertia_ for k in range (2,25)}"
   ]
  },
  {
   "cell_type": "code",
   "execution_count": 47,
   "id": "09ac85ad",
   "metadata": {},
   "outputs": [],
   "source": [
    "kmeans_dict = {k: KMeans(k).fit(oops[cols_scaled]).inertia_ for k in range (2,25)}"
   ]
  },
  {
   "cell_type": "code",
   "execution_count": 64,
   "id": "7273f167",
   "metadata": {},
   "outputs": [
    {
     "data": {
      "text/plain": [
       "{2: 5.176463590044368,\n",
       " 3: 1.7018746881920968,\n",
       " 4: 1.1588792731667126,\n",
       " 5: 0.8538617353912239,\n",
       " 6: 0.6795297632254397,\n",
       " 7: 0.566867830638765,\n",
       " 8: 0.4931360038635195,\n",
       " 9: 0.41335075742016236,\n",
       " 10: 0.3640613689743311,\n",
       " 11: 0.335563230399491,\n",
       " 12: 0.296962841389772,\n",
       " 13: 0.279279155806027,\n",
       " 14: 0.24623126648171084,\n",
       " 15: 0.23008949059868072,\n",
       " 16: 0.21830153362334492,\n",
       " 17: 0.19426623020124514,\n",
       " 18: 0.18597617614445572,\n",
       " 19: 0.16794699190921542,\n",
       " 20: 0.16205301423926238,\n",
       " 21: 0.14890937366499957,\n",
       " 22: 0.14252116511651908,\n",
       " 23: 0.1333027008654523,\n",
       " 24: 0.13042012866869385}"
      ]
     },
     "execution_count": 64,
     "metadata": {},
     "output_type": "execute_result"
    }
   ],
   "source": [
    "kmeans_dict"
   ]
  },
  {
   "cell_type": "code",
   "execution_count": 63,
   "id": "f935d3bd",
   "metadata": {},
   "outputs": [
    {
     "data": {
      "text/plain": [
       "<AxesSubplot:>"
      ]
     },
     "execution_count": 63,
     "metadata": {},
     "output_type": "execute_result"
    },
    {
     "data": {
      "image/png": "[encoded data removed]",
      "text/plain": [
       "<Figure size 1000x400 with 1 Axes>"
      ]
     },
     "metadata": {},
     "output_type": "display_data"
    }
   ],
   "source": [
    "plt.figure(figsize=(10,4))\n",
    "pd.Series(kmeans_dict).plot(marker='x')"
   ]
  },
  {
   "cell_type": "code",
   "execution_count": null,
   "id": "f55c594b",
   "metadata": {},
   "outputs": [],
   "source": []
  },
  {
   "cell_type": "code",
   "execution_count": null,
   "id": "7e406628",
   "metadata": {},
   "outputs": [],
   "source": []
  },
  {
   "cell_type": "code",
   "execution_count": null,
   "id": "4efb9e76",
   "metadata": {},
   "outputs": [],
   "source": []
  },
  {
   "cell_type": "code",
   "execution_count": null,
   "id": "8be9267a",
   "metadata": {},
   "outputs": [],
   "source": []
  },
  {
   "cell_type": "code",
   "execution_count": null,
   "id": "a7065edd",
   "metadata": {},
   "outputs": [],
   "source": []
  },
  {
   "cell_type": "code",
   "execution_count": null,
   "id": "f029e579",
   "metadata": {},
   "outputs": [],
   "source": []
  }
 ],
 "metadata": {
  "kernelspec": {
   "display_name": "Python 3 (ipykernel)",
   "language": "python",
   "name": "python3"
  },
  "language_info": {
   "codemirror_mode": {
    "name": "ipython",
    "version": 3
   },
   "file_extension": ".py",
   "mimetype": "text/x-python",
   "name": "python",
   "nbconvert_exporter": "python",
   "pygments_lexer": "ipython3",
   "version": "3.9.13"
  }
 },
 "nbformat": 4,
 "nbformat_minor": 5
}
